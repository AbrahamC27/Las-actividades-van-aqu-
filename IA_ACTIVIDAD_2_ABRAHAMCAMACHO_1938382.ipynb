{
  "nbformat": 4,
  "nbformat_minor": 0,
  "metadata": {
    "colab": {
      "name": "IA_ACTIVIDAD 2_ABRAHAMCAMACHO-1938382",
      "provenance": []
    },
    "kernelspec": {
      "name": "python3",
      "display_name": "Python 3"
    },
    "language_info": {
      "name": "python"
    }
  },
  "cells": [
    {
      "cell_type": "code",
      "metadata": {
        "colab": {
          "base_uri": "https://localhost:8080/"
        },
        "id": "ES4Ygql6KjxP",
        "outputId": "4c00411b-b8eb-4384-9ce2-54da1c008d9b"
      },
      "source": [
        "#Actividad2 Ejercicios Introduccion Python Abraham Isaac Camacho Segura 1938382 Sabatino N1\n",
        "\n",
        "nombre = input(\"Digite su nombre:\") #Se pide ingresar el nombre\n",
        "edad = input(\"Digite su edad:\") #Se pide ingresar la edad\n",
        "frase = input(\"Digite la frase favorita:\") #Se pide ingresar la frase favorita\n",
        "autor = input(\"Digite el autor de la frase:\") #Se pide ingresar el autor\n",
        "\n",
        "print(f\"nombre\") #Se imprime el nombre ingresado\n",
        "print(f\"{edad} años\") #Se imprime la edad seguida de la palabra años\n",
        "print(f\"su frase favorita es: {frase}\") #Se imprime la farse ingresada agregando que es su frase favorita\n",
        "print(f\"El autor de la frase es: {autor}\") #Se imprime el nombre ingresado aclarando que es el autor de la frase\n",
        "\n"
      ],
      "execution_count": 1,
      "outputs": [
        {
          "output_type": "stream",
          "name": "stdout",
          "text": [
            "Digite su nombre:Abraham\n",
            "Digite su edad:23\n",
            "Digite la frase favorita:El aprendizaje es experiencia todo lo demas es informacion\n",
            "Digite el autor de la frase:Albert Einstein\n",
            "nombre\n",
            "23 años\n",
            "su frase favorita es: El aprendizaje es experiencia todo lo demas es informacion\n",
            "El autor de la frase es: Albert Einstein\n"
          ]
        }
      ]
    },
    {
      "cell_type": "code",
      "metadata": {
        "colab": {
          "base_uri": "https://localhost:8080/"
        },
        "id": "8IK3ePUEUAZ3",
        "outputId": "eddd0213-a058-4213-87b2-50e6f5b4f9fe"
      },
      "source": [
        "a = int (input (\"Digite un numero entero:\")) #Se pide ingresar un numero entero\n",
        "b = int (input (\"Digite un numero entero:\")) #Se pide ingresar un numero entero\n",
        "c = float (input (\"Digite un numero decimal:\")) #Se pide ingresar un numero decimal\n",
        "d = float (input (\"Digite un numero decimal:\")) #Se pide ingresar un numero decimal\n",
        "print(f\"El resultado de la suma del primer entero mas el segundo es:{a+b}\") #Se realiza la suma de los enteros\n",
        "print(f\"El resultado de la resta del primer entero menos el segundo es:{a-b}\") #Se realiza la resta del primer entero menos el segundo\n",
        "print(f\"El resultado de la multiplicacion de los entero es:{a*b}\") #Se realiza la multiplicacion de los enteros\n",
        "print(f\"El resultado de la division del primer entero entre el segundo es:{a/b}\") #Se realiza la division del primer entero entre el segundo\n",
        "print(f\"El resultado de la suma del primer decimal mas el segundo es:{c+d}\") #Se realiza la suma de los decimales\n",
        "print(f\"El resultado de la resta del primer decimal menos el segundo es:{c-d}\") #Se realiza la resta del primer decimañ menos el segundo\n",
        "print(f\"El resultado de la multiplicacion de los decimales es:{c*d}\") #Se realiza la multiplicacion de los decimales\n",
        "print(f\"El resultado de la division del primer decimal entre el segundo es:{c/d}\") #Se realiza la division del primer decimal entre el segundo\n"
      ],
      "execution_count": 2,
      "outputs": [
        {
          "output_type": "stream",
          "name": "stdout",
          "text": [
            "Digite un numero entero:74\n",
            "Digite un numero entero:36\n",
            "Digite un numero decimal:4.4\n",
            "Digite un numero decimal:4.2\n",
            "El resultado de la suma del primer entero mas el segundo es:110\n",
            "El resultado de la resta del primer entero menos el segundo es:38\n",
            "El resultado de la multiplicacion de los entero es:2664\n",
            "El resultado de la division del primer entero entre el segundo es:2.0555555555555554\n",
            "El resultado de la suma del primer decimal mas el segundo es:8.600000000000001\n",
            "El resultado de la resta del primer decimal menos el segundo es:0.20000000000000018\n",
            "El resultado de la multiplicacion de los decimales es:18.480000000000004\n",
            "El resultado de la division del primer decimal entre el segundo es:1.0476190476190477\n"
          ]
        }
      ]
    },
    {
      "cell_type": "code",
      "metadata": {
        "colab": {
          "base_uri": "https://localhost:8080/"
        },
        "id": "RUz9HqJZZCYU",
        "outputId": "105ee8c6-b959-4456-8d95-dedc64bdc383"
      },
      "source": [
        "a = 20 #Se le dan valores a las variables a comparar\n",
        "b = 10\n",
        "c = 10\n",
        "d = 25\n",
        "\n",
        "Primero = ((b<c) and (d<a)) #Se comparan entre si con el operador and\n",
        "Segundo = ((d<=a) and (b==a)) #Se comparan entre si con el operador and\n",
        "Tercero = ((c<d) or (c==b)) #Se comparan entre si con el operador or\n",
        "Cuarto = ((b==a) or (b<d)) #Se comparan entre si con el operador or\n",
        "quinto = not ((a<=d) and (d==a)) #Se negaron la primer y segunda expresion para obtener el resultado contrario\n",
        "Sexto = not ((c<=a) and (d==b)) \n",
        "print(Primero) #Se imprimio el resultado de las 6 expresiones\n",
        "print(Segundo)\n",
        "print(Tercero)\n",
        "print(Cuarto)\n",
        "print(quinto)\n",
        "print(Sexto)\n"
      ],
      "execution_count": 8,
      "outputs": [
        {
          "output_type": "stream",
          "name": "stdout",
          "text": [
            "False\n",
            "False\n",
            "True\n",
            "True\n",
            "True\n",
            "True\n"
          ]
        }
      ]
    }
  ]
}